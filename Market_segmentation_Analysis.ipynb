{
 "cells": [
  {
   "cell_type": "markdown",
   "metadata": {},
   "source": [
    "# Customer Segmentation and Analysis"
   ]
  },
  {
   "cell_type": "code",
   "execution_count": 1,
   "metadata": {
    "ExecuteTime": {
     "end_time": "2022-01-08T18:19:58.658488Z",
     "start_time": "2022-01-08T18:19:56.040Z"
    },
    "scrolled": true
   },
   "outputs": [
    {
     "name": "stderr",
     "output_type": "stream",
     "text": [
      "Loading required package: grid\n",
      "\n",
      "Loading required package: modeltools\n",
      "\n",
      "Loading required package: stats4\n",
      "\n"
     ]
    }
   ],
   "source": [
    "library(lattice)\n",
    "library(flexclust)\n",
    "library(MSA)\n",
    "library(cluster)\n",
    "\n"
   ]
  },
  {
   "cell_type": "code",
   "execution_count": 2,
   "metadata": {
    "ExecuteTime": {
     "end_time": "2022-01-08T18:19:58.765203Z",
     "start_time": "2022-01-08T18:19:56.045Z"
    }
   },
   "outputs": [
    {
     "data": {
      "text/html": [
       "<style>\n",
       ".list-inline {list-style: none; margin:0; padding: 0}\n",
       ".list-inline>li {display: inline-block}\n",
       ".list-inline>li:not(:last-child)::after {content: \"\\00b7\"; padding: 0 .5ex}\n",
       "</style>\n",
       "<ol class=list-inline><li>'Gender'</li><li>'Age'</li><li>'Education'</li><li>'Income'</li><li>'Income2'</li><li>'Occupation'</li><li>'State'</li><li>'Relationship.Status'</li><li>'Obligation'</li><li>'Obligation2'</li><li>'NEP'</li><li>'Vacation.Behaviour'</li><li>'rest and relax'</li><li>'luxury / be spoilt'</li><li>'do sports'</li><li>'excitement, a challenge'</li><li>'not exceed planned budget'</li><li>'realise creativity'</li><li>'fun and entertainment'</li><li>'good company'</li><li>'health and beauty'</li><li>'free-and-easy-going'</li><li>'entertainment facilities'</li><li>'not care about prices'</li><li>'life style of the local people'</li><li>'intense experience of nature'</li><li>'cosiness/familiar atmosphere'</li><li>'maintain unspoilt surroundings'</li><li>'everything organised'</li><li>'unspoilt nature/natural landscape'</li><li>'cultural offers'</li><li>'change of surroundings'</li></ol>\n"
      ],
      "text/latex": [
       "\\begin{enumerate*}\n",
       "\\item 'Gender'\n",
       "\\item 'Age'\n",
       "\\item 'Education'\n",
       "\\item 'Income'\n",
       "\\item 'Income2'\n",
       "\\item 'Occupation'\n",
       "\\item 'State'\n",
       "\\item 'Relationship.Status'\n",
       "\\item 'Obligation'\n",
       "\\item 'Obligation2'\n",
       "\\item 'NEP'\n",
       "\\item 'Vacation.Behaviour'\n",
       "\\item 'rest and relax'\n",
       "\\item 'luxury / be spoilt'\n",
       "\\item 'do sports'\n",
       "\\item 'excitement, a challenge'\n",
       "\\item 'not exceed planned budget'\n",
       "\\item 'realise creativity'\n",
       "\\item 'fun and entertainment'\n",
       "\\item 'good company'\n",
       "\\item 'health and beauty'\n",
       "\\item 'free-and-easy-going'\n",
       "\\item 'entertainment facilities'\n",
       "\\item 'not care about prices'\n",
       "\\item 'life style of the local people'\n",
       "\\item 'intense experience of nature'\n",
       "\\item 'cosiness/familiar atmosphere'\n",
       "\\item 'maintain unspoilt surroundings'\n",
       "\\item 'everything organised'\n",
       "\\item 'unspoilt nature/natural landscape'\n",
       "\\item 'cultural offers'\n",
       "\\item 'change of surroundings'\n",
       "\\end{enumerate*}\n"
      ],
      "text/markdown": [
       "1. 'Gender'\n",
       "2. 'Age'\n",
       "3. 'Education'\n",
       "4. 'Income'\n",
       "5. 'Income2'\n",
       "6. 'Occupation'\n",
       "7. 'State'\n",
       "8. 'Relationship.Status'\n",
       "9. 'Obligation'\n",
       "10. 'Obligation2'\n",
       "11. 'NEP'\n",
       "12. 'Vacation.Behaviour'\n",
       "13. 'rest and relax'\n",
       "14. 'luxury / be spoilt'\n",
       "15. 'do sports'\n",
       "16. 'excitement, a challenge'\n",
       "17. 'not exceed planned budget'\n",
       "18. 'realise creativity'\n",
       "19. 'fun and entertainment'\n",
       "20. 'good company'\n",
       "21. 'health and beauty'\n",
       "22. 'free-and-easy-going'\n",
       "23. 'entertainment facilities'\n",
       "24. 'not care about prices'\n",
       "25. 'life style of the local people'\n",
       "26. 'intense experience of nature'\n",
       "27. 'cosiness/familiar atmosphere'\n",
       "28. 'maintain unspoilt surroundings'\n",
       "29. 'everything organised'\n",
       "30. 'unspoilt nature/natural landscape'\n",
       "31. 'cultural offers'\n",
       "32. 'change of surroundings'\n",
       "\n",
       "\n"
      ],
      "text/plain": [
       " [1] \"Gender\"                            \"Age\"                              \n",
       " [3] \"Education\"                         \"Income\"                           \n",
       " [5] \"Income2\"                           \"Occupation\"                       \n",
       " [7] \"State\"                             \"Relationship.Status\"              \n",
       " [9] \"Obligation\"                        \"Obligation2\"                      \n",
       "[11] \"NEP\"                               \"Vacation.Behaviour\"               \n",
       "[13] \"rest and relax\"                    \"luxury / be spoilt\"               \n",
       "[15] \"do sports\"                         \"excitement, a challenge\"          \n",
       "[17] \"not exceed planned budget\"         \"realise creativity\"               \n",
       "[19] \"fun and entertainment\"             \"good company\"                     \n",
       "[21] \"health and beauty\"                 \"free-and-easy-going\"              \n",
       "[23] \"entertainment facilities\"          \"not care about prices\"            \n",
       "[25] \"life style of the local people\"    \"intense experience of nature\"     \n",
       "[27] \"cosiness/familiar atmosphere\"      \"maintain unspoilt surroundings\"   \n",
       "[29] \"everything organised\"              \"unspoilt nature/natural landscape\"\n",
       "[31] \"cultural offers\"                   \"change of surroundings\"           "
      ]
     },
     "metadata": {},
     "output_type": "display_data"
    }
   ],
   "source": [
    "\n",
    "## First step is to read in the data in R\n",
    "vac <- read.csv(\"Australian_Travel_Motives.csv\",check.names = FALSE)\n",
    "\n",
    "\n",
    "## We will then review the column names of the dataset\n",
    "colnames(vac)"
   ]
  },
  {
   "cell_type": "code",
   "execution_count": 3,
   "metadata": {
    "ExecuteTime": {
     "end_time": "2022-01-08T18:19:58.818063Z",
     "start_time": "2022-01-08T18:19:56.050Z"
    }
   },
   "outputs": [
    {
     "data": {
      "text/html": [
       "<style>\n",
       ".list-inline {list-style: none; margin:0; padding: 0}\n",
       ".list-inline>li {display: inline-block}\n",
       ".list-inline>li:not(:last-child)::after {content: \"\\00b7\"; padding: 0 .5ex}\n",
       "</style>\n",
       "<ol class=list-inline><li>1000</li><li>32</li></ol>\n"
      ],
      "text/latex": [
       "\\begin{enumerate*}\n",
       "\\item 1000\n",
       "\\item 32\n",
       "\\end{enumerate*}\n"
      ],
      "text/markdown": [
       "1. 1000\n",
       "2. 32\n",
       "\n",
       "\n"
      ],
      "text/plain": [
       "[1] 1000   32"
      ]
     },
     "metadata": {},
     "output_type": "display_data"
    }
   ],
   "source": [
    "## we will then check the dimension of the dataset\n",
    "\n",
    "dim(vac)"
   ]
  },
  {
   "cell_type": "code",
   "execution_count": 4,
   "metadata": {
    "ExecuteTime": {
     "end_time": "2022-01-08T18:19:58.880892Z",
     "start_time": "2022-01-08T18:19:56.054Z"
    },
    "scrolled": true
   },
   "outputs": [
    {
     "data": {
      "text/plain": [
       "    Gender               Age           Education        Income         \n",
       " Length:1000        Min.   : 18.00   Min.   :1.000   Length:1000       \n",
       " Class :character   1st Qu.: 32.00   1st Qu.:3.000   Class :character  \n",
       " Mode  :character   Median : 42.00   Median :6.000   Mode  :character  \n",
       "                    Mean   : 44.17   Mean   :4.814                     \n",
       "                    3rd Qu.: 57.00   3rd Qu.:7.000                     \n",
       "                    Max.   :105.00   Max.   :8.000                     \n",
       "                                     NA's   :8                         \n",
       "   Income2         \n",
       " Length:1000       \n",
       " Class :character  \n",
       " Mode  :character  \n",
       "                   \n",
       "                   \n",
       "                   \n",
       "                   "
      ]
     },
     "metadata": {},
     "output_type": "display_data"
    }
   ],
   "source": [
    "## step 2: We will conduct a summary of the first five columns\n",
    "\n",
    "summary(vac[,c(1,2,3,4,5)])"
   ]
  },
  {
   "cell_type": "markdown",
   "metadata": {},
   "source": [
    "## Data Cleaning\n"
   ]
  },
  {
   "cell_type": "code",
   "execution_count": 5,
   "metadata": {
    "ExecuteTime": {
     "end_time": "2022-01-08T18:19:58.926768Z",
     "start_time": "2022-01-08T18:19:56.059Z"
    }
   },
   "outputs": [
    {
     "data": {
      "text/plain": [
       "NULL"
      ]
     },
     "metadata": {},
     "output_type": "display_data"
    }
   ],
   "source": [
    "## Conducting a summary of Income2 we find that the categories are not sorted in order\n",
    "## The categories can be re-ordered as shown below\n",
    "inc2 <- vac$Income2\n",
    "levels(inc2)"
   ]
  },
  {
   "cell_type": "code",
   "execution_count": 6,
   "metadata": {
    "ExecuteTime": {
     "end_time": "2022-01-08T18:19:58.979626Z",
     "start_time": "2022-01-08T18:19:56.063Z"
    }
   },
   "outputs": [
    {
     "data": {
      "text/plain": [
       "NULL"
      ]
     },
     "metadata": {},
     "output_type": "display_data"
    }
   ],
   "source": [
    "## first we store the levels in a helper variable and find the correct re-ordering of the levels\n",
    "\n",
    "lev <- levels(inc2)\n",
    "\n",
    "lev[c(1,3,4,5,2)]"
   ]
  },
  {
   "cell_type": "code",
   "execution_count": 7,
   "metadata": {
    "ExecuteTime": {
     "end_time": "2022-01-08T18:19:59.025505Z",
     "start_time": "2022-01-08T18:19:56.066Z"
    }
   },
   "outputs": [],
   "source": [
    "## we will then convert variable into an ordinal varibale(an ordered factor in R)\n",
    "\n",
    "inc2 <- factor(inc2,levels= lev[c(1,3,4,5,2)], ordered = TRUE)"
   ]
  },
  {
   "cell_type": "code",
   "execution_count": 8,
   "metadata": {
    "ExecuteTime": {
     "end_time": "2022-01-08T18:19:59.075370Z",
     "start_time": "2022-01-08T18:19:56.070Z"
    }
   },
   "outputs": [
    {
     "data": {
      "text/plain": [
       "< table of extent 5 x 0 >"
      ]
     },
     "metadata": {},
     "output_type": "display_data"
    }
   ],
   "source": [
    "## we will then double check that the transformation was implemented correctly\n",
    "\n",
    "table(orig = vac$Income2,new = inc2)"
   ]
  },
  {
   "cell_type": "code",
   "execution_count": 9,
   "metadata": {
    "ExecuteTime": {
     "end_time": "2022-01-08T18:19:59.121248Z",
     "start_time": "2022-01-08T18:19:56.073Z"
    }
   },
   "outputs": [],
   "source": [
    "## we then overwrite the original column of the data\n",
    "\n",
    "vac$Income2 <- inc2"
   ]
  },
  {
   "cell_type": "markdown",
   "metadata": {
    "ExecuteTime": {
     "end_time": "2021-12-17T12:09:15.297491Z",
     "start_time": "2021-12-17T12:09:15.258Z"
    }
   },
   "source": [
    "## Descriptive Analysis"
   ]
  },
  {
   "cell_type": "code",
   "execution_count": 10,
   "metadata": {
    "ExecuteTime": {
     "end_time": "2022-01-08T18:19:59.339579Z",
     "start_time": "2022-01-08T18:19:56.077Z"
    }
   },
   "outputs": [
    {
     "data": {
      "image/png": "[encoded data removed]",
      "text/plain": [
       "plot without title"
      ]
     },
     "metadata": {
      "image/png": {
       "height": 420,
       "width": 420
      }
     },
     "output_type": "display_data"
    }
   ],
   "source": [
    "## Plotting a histogram of the age column \n",
    "\n",
    "histogram(~ Age,data = vac,breaks = 40,type = \"density\")"
   ]
  },
  {
   "cell_type": "code",
   "execution_count": 11,
   "metadata": {
    "ExecuteTime": {
     "end_time": "2022-01-08T18:19:59.466242Z",
     "start_time": "2022-01-08T18:19:56.081Z"
    }
   },
   "outputs": [
    {
     "data": {
      "image/png": "[encoded data removed]",
      "text/plain": [
       "plot without title"
      ]
     },
     "metadata": {
      "image/png": {
       "height": 420,
       "width": 420
      }
     },
     "output_type": "display_data"
    }
   ],
   "source": [
    "## plotting a boxplot of the age column\n",
    "## we can observe the one outlier present in the dataset\n",
    "\n",
    "boxplot(vac$Age, horizontal = TRUE ,xlab = \"Age\")"
   ]
  },
  {
   "cell_type": "code",
   "execution_count": 12,
   "metadata": {
    "ExecuteTime": {
     "end_time": "2022-01-08T18:19:59.588912Z",
     "start_time": "2022-01-08T18:19:56.084Z"
    }
   },
   "outputs": [
    {
     "data": {
      "image/png": "[encoded data removed]",
      "text/plain": [
       "plot without title"
      ]
     },
     "metadata": {
      "image/png": {
       "height": 420,
       "width": 420
      }
     },
     "output_type": "display_data"
    }
   ],
   "source": [
    "## below we are visualizing the percentages of agreement with the travel motives contained in the last 20 columns of the dataset\n",
    "\n",
    "## we first of all such for the string \"yes\" which means that the motives apply,the colmeans calculates the mean number of \"yes\"\n",
    "##  for each column \n",
    "yes <- 100 * colMeans(vac[,13:32] == \"yes\")\n",
    "\n",
    "## we then sort the mean percentages and plot them on a dotchart\n",
    "\n",
    "dotchart(sort(yes),xlab = \"Percent 'yes'\", xlim = c(0,100))"
   ]
  },
  {
   "cell_type": "markdown",
   "metadata": {},
   "source": [
    "## Pre-processing"
   ]
  },
  {
   "cell_type": "code",
   "execution_count": 13,
   "metadata": {
    "ExecuteTime": {
     "end_time": "2022-01-08T18:19:59.638780Z",
     "start_time": "2022-01-08T18:19:56.087Z"
    }
   },
   "outputs": [
    {
     "data": {
      "text/plain": [
       "\n",
       "$210,001 to $240,000   more than $240,001 $180,001 to $210,000 \n",
       "                  10                   11                   15 \n",
       "$150,001 to $180,000 $120,001 to $150,000  $90,001 to $120,000 \n",
       "                  32                   72                  146 \n",
       "   Less than $30,000   $60,001 to $90,000   $30,001 to $60,000 \n",
       "                 150                  233                  265 "
      ]
     },
     "metadata": {},
     "output_type": "display_data"
    }
   ],
   "source": [
    "## after sorting the Income column we can observe that only a small number of people have incomes of above $120k \n",
    "## Infact the top 3 income categories contain only between 10 and 15 people which corresponds to only 1 - 1.5% of the total \n",
    "##  dataset\n",
    "\n",
    "sort(table(vac$Income))"
   ]
  },
  {
   "cell_type": "code",
   "execution_count": 14,
   "metadata": {
    "ExecuteTime": {
     "end_time": "2022-01-08T18:19:59.686652Z",
     "start_time": "2022-01-08T18:19:56.089Z"
    }
   },
   "outputs": [
    {
     "data": {
      "text/plain": [
       "< table of extent 0 >"
      ]
     },
     "metadata": {},
     "output_type": "display_data"
    }
   ],
   "source": [
    "## merging the top income categories results in a new variable which is Income2, which has much more balanced frequencies\n",
    "\n",
    "table(vac$Income2)"
   ]
  },
  {
   "cell_type": "code",
   "execution_count": 15,
   "metadata": {
    "ExecuteTime": {
     "end_time": "2022-01-08T18:19:59.728542Z",
     "start_time": "2022-01-08T18:19:56.092Z"
    }
   },
   "outputs": [],
   "source": [
    "## below we convert the travel motives to a numeric matrix of 0 for 'No' and 1 for 'YES'\n",
    "\n",
    "vacmot <- (vac[, 13:32] == \"yes\") + 0 "
   ]
  },
  {
   "cell_type": "code",
   "execution_count": 16,
   "metadata": {
    "ExecuteTime": {
     "end_time": "2022-01-08T18:19:59.774416Z",
     "start_time": "2022-01-08T18:19:56.095Z"
    }
   },
   "outputs": [],
   "source": [
    "## we can also scale the numeric matrix above and standardize the values \n",
    "\n",
    "vacmot.scaled <- scale(vacmot)"
   ]
  },
  {
   "cell_type": "markdown",
   "metadata": {},
   "source": [
    "## Principal Component Analysis"
   ]
  },
  {
   "cell_type": "code",
   "execution_count": 17,
   "metadata": {
    "ExecuteTime": {
     "end_time": "2022-01-08T18:19:59.915414Z",
     "start_time": "2022-01-08T18:19:56.098Z"
    }
   },
   "outputs": [
    {
     "data": {
      "text/plain": [
       "Standard deviations (1, .., p=20):\n",
       " [1] 0.8123768 0.5735039 0.5285558 0.5094231 0.4695718 0.4549552 0.4314122\n",
       " [8] 0.4197407 0.4054634 0.3754545 0.3638569 0.3596946 0.3484495 0.3320907\n",
       "[15] 0.3283236 0.3196988 0.3059506 0.2974572 0.2813886 0.2434328\n",
       "\n",
       "Rotation (n x k) = (20 x 20):\n",
       "                                          PC1          PC2          PC3\n",
       "rest and relax                    -0.06277267  0.011968683  0.134476275\n",
       "luxury / be spoilt                -0.10920691  0.393220137 -0.116667935\n",
       "do sports                         -0.09455162  0.145580945 -0.045647512\n",
       "excitement, a challenge           -0.27740140  0.222698527 -0.210311857\n",
       "not exceed planned budget         -0.28553655 -0.156119478  0.583064849\n",
       "realise creativity                -0.10951057 -0.012162975 -0.015277762\n",
       "fun and entertainment             -0.27924352  0.520509339  0.086515129\n",
       "good company                      -0.28435966 -0.009653647  0.129145586\n",
       "health and beauty                 -0.13972865  0.050941101  0.003911895\n",
       "free-and-easy-going               -0.31720483  0.057544926  0.244457844\n",
       "entertainment facilities          -0.11769062  0.320726761  0.005007925\n",
       "not care about prices             -0.04947810  0.239679194 -0.298809744\n",
       "life style of the local people    -0.35272940 -0.267243059 -0.398233311\n",
       "intense experience of nature      -0.24129906 -0.213250514 -0.076280334\n",
       "cosiness/familiar atmosphere      -0.13244960 -0.013284092  0.201726959\n",
       "maintain unspoilt surroundings    -0.30651478 -0.336128427  0.005248829\n",
       "everything organised              -0.09160870  0.164922912  0.078046269\n",
       "unspoilt nature/natural landscape -0.26852625 -0.183104682 -0.055577530\n",
       "cultural offers                   -0.26006232 -0.115982891 -0.428186679\n",
       "change of surroundings            -0.25917233  0.091930993  0.104343189\n",
       "                                          PC4         PC5           PC6\n",
       "rest and relax                    -0.07714032 -0.01918920  0.1008986339\n",
       "luxury / be spoilt                -0.38147871  0.08385396 -0.0001246902\n",
       "do sports                         -0.09360000  0.02071610 -0.1330704924\n",
       "excitement, a challenge            0.13855126  0.18953515 -0.3324951382\n",
       "not exceed planned budget          0.19164919  0.38981834 -0.0355098923\n",
       "realise creativity                -0.02537091 -0.02344306 -0.0834694688\n",
       "fun and entertainment              0.20396019  0.01290119  0.0535784778\n",
       "good company                       0.30978323 -0.64448244 -0.4867605805\n",
       "health and beauty                 -0.18411602 -0.01535244 -0.1424696733\n",
       "free-and-easy-going               -0.18710631 -0.45399718  0.5895562187\n",
       "entertainment facilities          -0.05438875  0.12737857 -0.0474839580\n",
       "not care about prices             -0.16315215 -0.18578777  0.1246073181\n",
       "life style of the local people     0.28716052 -0.01814656  0.2324197212\n",
       "intense experience of nature      -0.19484703  0.06424358 -0.1773419235\n",
       "cosiness/familiar atmosphere      -0.19766207 -0.06924203 -0.1536469974\n",
       "maintain unspoilt surroundings    -0.34938475 -0.00509005 -0.0490619679\n",
       "everything organised              -0.12922382  0.13989148 -0.0963630858\n",
       "unspoilt nature/natural landscape -0.38654783  0.13719694 -0.0841374971\n",
       "cultural offers                    0.18241933  0.13072656  0.0856200374\n",
       "change of surroundings             0.25725834  0.25761423  0.3044484997\n",
       "                                            PC7           PC8         PC9\n",
       "rest and relax                     0.0470003734  0.0336137098  0.06101037\n",
       "luxury / be spoilt                 0.3694489797  0.2884688154 -0.20874983\n",
       "do sports                         -0.1539074545  0.0234099260 -0.01845682\n",
       "excitement, a challenge           -0.5530629330 -0.1542152777 -0.42205077\n",
       "not exceed planned budget         -0.0229696347  0.3632877888 -0.14046143\n",
       "realise creativity                -0.0001897288 -0.0017303007 -0.06646082\n",
       "fun and entertainment             -0.2002495233  0.0431345234  0.68051009\n",
       "good company                       0.2974372991 -0.0325378295 -0.03909089\n",
       "health and beauty                  0.0463850271  0.0250862650 -0.06658213\n",
       "free-and-easy-going               -0.2972828491  0.0867678725 -0.26689869\n",
       "entertainment facilities           0.0863029155  0.0183912134  0.03861935\n",
       "not care about prices              0.0543063148 -0.1383144682 -0.07213998\n",
       "life style of the local people     0.1244894075  0.2374913311  0.08699757\n",
       "intense experience of nature      -0.0752100463 -0.2005075783  0.06733313\n",
       "cosiness/familiar atmosphere       0.1509717699  0.0471158399 -0.02930102\n",
       "maintain unspoilt surroundings    -0.1533385295 -0.2573708687  0.13854042\n",
       "everything organised               0.2382260169  0.0388275665 -0.17222550\n",
       "unspoilt nature/natural landscape  0.0990247456  0.0001359768  0.33598462\n",
       "cultural offers                    0.1076555940  0.3212045412 -0.09414938\n",
       "change of surroundings             0.3950989842 -0.6775345150 -0.13977041\n",
       "                                         PC10          PC11         PC12\n",
       "rest and relax                     0.03788555 -0.0676525504  0.129992687\n",
       "luxury / be spoilt                 0.40530789  0.1214774775  0.351127661\n",
       "do sports                          0.16990082 -0.0647054537 -0.003374708\n",
       "excitement, a challenge            0.05892300  0.0274779715  0.075114225\n",
       "not exceed planned budget          0.16217997 -0.1443688270 -0.005291507\n",
       "realise creativity                -0.05456089  0.0538584645 -0.008759564\n",
       "fun and entertainment             -0.09957243  0.0838407118  0.194777266\n",
       "good company                       0.16661720  0.1051766967 -0.101741888\n",
       "health and beauty                 -0.16211442  0.0824518383  0.117333354\n",
       "free-and-easy-going               -0.08638774  0.1638091914 -0.133309076\n",
       "entertainment facilities          -0.02975327 -0.3545955072 -0.667205093\n",
       "not care about prices             -0.01619638 -0.3839526223 -0.026466720\n",
       "life style of the local people     0.13297353 -0.4561235806  0.102706485\n",
       "intense experience of nature      -0.26901739  0.0006526776  0.112220052\n",
       "cosiness/familiar atmosphere      -0.55595466 -0.3167406595  0.362687985\n",
       "maintain unspoilt surroundings     0.26180946 -0.1725270957  0.020703335\n",
       "everything organised              -0.32327834 -0.0279049358 -0.273613572\n",
       "unspoilt nature/natural landscape  0.12482689  0.3299616112 -0.286983795\n",
       "cultural offers                   -0.33313749  0.4034559492 -0.089066522\n",
       "change of surroundings             0.03676932  0.1285738482  0.089954214\n",
       "                                          PC13         PC14        PC15\n",
       "rest and relax                     0.024132399  0.014612211 -0.14982672\n",
       "luxury / be spoilt                -0.075202882 -0.110593895 -0.04885937\n",
       "do sports                          0.037650312 -0.307117347 -0.17790904\n",
       "excitement, a challenge            0.237925834  0.184522391 -0.05813948\n",
       "not exceed planned budget         -0.143897520  0.014987633  0.23719066\n",
       "realise creativity                -0.070058912  0.024940416 -0.10037596\n",
       "fun and entertainment             -0.093924343  0.073784347  0.10146660\n",
       "good company                      -0.015383499 -0.013174948  0.05296633\n",
       "health and beauty                 -0.190222341  0.080381994 -0.14355352\n",
       "free-and-easy-going                0.003843372 -0.008648379 -0.11754178\n",
       "entertainment facilities           0.049860591 -0.411774812 -0.15858541\n",
       "not care about prices             -0.124974797  0.178489208  0.49179787\n",
       "life style of the local people     0.038633921  0.222963135 -0.34709341\n",
       "intense experience of nature      -0.603966245 -0.203171933 -0.29386667\n",
       "cosiness/familiar atmosphere       0.512664960 -0.155456437  0.01608141\n",
       "maintain unspoilt surroundings    -0.033648962 -0.114413329  0.44462277\n",
       "everything organised              -0.220155277  0.569848664  0.04470368\n",
       "unspoilt nature/natural landscape  0.398664804  0.282179645 -0.12869172\n",
       "cultural offers                    0.021950492 -0.324784325  0.36637266\n",
       "change of surroundings             0.093002257 -0.081745720 -0.04111831\n",
       "                                         PC16        PC17         PC18\n",
       "rest and relax                     0.01487215  0.13920346  0.240602212\n",
       "luxury / be spoilt                -0.11052371 -0.21372535 -0.150245329\n",
       "do sports                          0.66028763  0.53907162 -0.145116363\n",
       "excitement, a challenge           -0.15480986 -0.09669750 -0.021776310\n",
       "not exceed planned budget         -0.15791870  0.23339476  0.008129139\n",
       "realise creativity                 0.01741874 -0.07229138  0.271200990\n",
       "fun and entertainment              0.03434678 -0.10185296 -0.024605299\n",
       "good company                      -0.03379584  0.01643736 -0.056451439\n",
       "health and beauty                  0.08008280  0.08430553  0.788438413\n",
       "free-and-easy-going               -0.01041157 -0.03355362 -0.081126520\n",
       "entertainment facilities          -0.15598374 -0.20284779  0.122233448\n",
       "not care about prices             -0.26060966  0.48305799  0.039368961\n",
       "life style of the local people     0.07728813 -0.07850157 -0.001780641\n",
       "intense experience of nature      -0.27711999  0.09675881 -0.316267048\n",
       "cosiness/familiar atmosphere      -0.02150580 -0.02846990 -0.112998490\n",
       "maintain unspoilt surroundings     0.28362289 -0.39876502  0.078462726\n",
       "everything organised               0.42479334 -0.15694333 -0.226802229\n",
       "unspoilt nature/natural landscape -0.21912440  0.27686765 -0.059806332\n",
       "cultural offers                    0.08412976  0.02816227  0.035355407\n",
       "change of surroundings             0.04547338  0.06706348  0.025865087\n",
       "                                         PC19         PC20\n",
       "rest and relax                     0.91136914  0.005981283\n",
       "luxury / be spoilt                -0.02981286  0.006889614\n",
       "do sports                         -0.07794484  0.046277424\n",
       "excitement, a challenge            0.11752631 -0.065209186\n",
       "not exceed planned budget         -0.08759606  0.020818610\n",
       "realise creativity                -0.06849709  0.932584772\n",
       "fun and entertainment             -0.04214494  0.023196587\n",
       "good company                       0.05453143 -0.055584490\n",
       "health and beauty                 -0.25378233 -0.326432710\n",
       "free-and-easy-going               -0.07697135 -0.027514296\n",
       "entertainment facilities           0.03341008 -0.045021774\n",
       "not care about prices             -0.01004864  0.078953276\n",
       "life style of the local people    -0.08909831 -0.035492744\n",
       "intense experience of nature       0.04826667 -0.025609839\n",
       "cosiness/familiar atmosphere      -0.07365196  0.023958438\n",
       "maintain unspoilt surroundings     0.05132064 -0.026344356\n",
       "everything organised               0.11198496 -0.020863047\n",
       "unspoilt nature/natural landscape -0.05498119  0.007547182\n",
       "cultural offers                    0.15090180 -0.021690392\n",
       "change of surroundings            -0.05749851 -0.005017021"
      ]
     },
     "metadata": {},
     "output_type": "display_data"
    }
   ],
   "source": [
    "## below we will generate a principal components analysis for the australian travel motives dataset:\n",
    "\n",
    "vacmot.pca <- prcomp(vacmot)\n",
    "\n",
    "\n",
    "## the output is the standard deviations of the principal components\n",
    "vacmot.pca"
   ]
  },
  {
   "cell_type": "code",
   "execution_count": 18,
   "metadata": {
    "ExecuteTime": {
     "end_time": "2022-01-08T18:19:59.967277Z",
     "start_time": "2022-01-08T18:19:56.101Z"
    }
   },
   "outputs": [
    {
     "name": "stdout",
     "output_type": "stream",
     "text": [
      "Importance of components:\n",
      "                        PC1  PC2   PC3   PC4  PC5   PC6   PC7   PC8   PC9  PC10\n",
      "Standard deviation     0.81 0.57 0.529 0.509 0.47 0.455 0.431 0.420 0.405 0.375\n",
      "Proportion of Variance 0.18 0.09 0.077 0.071 0.06 0.057 0.051 0.048 0.045 0.039\n",
      "Cumulative Proportion  0.18 0.27 0.348 0.419 0.48 0.536 0.587 0.635 0.681 0.719\n",
      "                        PC11  PC12  PC13 PC14 PC15  PC16  PC17  PC18  PC19\n",
      "Standard deviation     0.364 0.360 0.348 0.33 0.33 0.320 0.306 0.297 0.281\n",
      "Proportion of Variance 0.036 0.035 0.033 0.03 0.03 0.028 0.026 0.024 0.022\n",
      "Cumulative Proportion  0.756 0.791 0.824 0.85 0.88 0.912 0.938 0.962 0.984\n",
      "                        PC20\n",
      "Standard deviation     0.243\n",
      "Proportion of Variance 0.016\n",
      "Cumulative Proportion  1.000\n"
     ]
    }
   ],
   "source": [
    "## we can gain further info on the fitted object with the summary function\n",
    "\n",
    "print(summary(vacmot.pca),digits  = 2)\n",
    "\n",
    "## we are able to interpret the output as follows\n",
    "## -> looking at the proportion of variance we can see that PC1 explains about 18% of the variance in the data and PC2 about 27%\n",
    "##  ->  together they first 2 principal components explain about 27% of the variance in the data whilst PC 3- 15 explains only \n",
    "##        between 8% and 3% of the original variation\n",
    "\n",
    "\n",
    "## -->  the fact that the first FEW principal components do not explain much of the variance indicate the original items\n",
    "##        (survey questions) are needed as segmantation variables  "
   ]
  },
  {
   "cell_type": "code",
   "execution_count": 19,
   "metadata": {
    "ExecuteTime": {
     "end_time": "2022-01-08T18:20:00.209626Z",
     "start_time": "2022-01-08T18:19:56.104Z"
    }
   },
   "outputs": [
    {
     "data": {
      "image/png": "[encoded data removed]",
      "text/plain": [
       "plot without title"
      ]
     },
     "metadata": {
      "image/png": {
       "height": 420,
       "width": 420
      }
     },
     "output_type": "display_data"
    }
   ],
   "source": [
    "## -->  we will now plot the data in 2-D space,we can observe from the rotation matrix that PC1 does not differentiate well\n",
    "##        between motives because all motives load on it negatively.\n",
    "\n",
    "##  -->  PC2 and PC3 display a more differentiated loading pattern of motives.we will use PC 2 and 3 \n",
    "\n",
    "\n",
    "\n",
    "plot(predict(vacmot.pca)[,2:3], pch = 16,col = \"grey80\")\n",
    "projAxes(vacmot.pca,which = 2:3)"
   ]
  },
  {
   "cell_type": "markdown",
   "metadata": {},
   "source": [
    "# Grouping Consumers"
   ]
  },
  {
   "cell_type": "code",
   "execution_count": 20,
   "metadata": {
    "ExecuteTime": {
     "end_time": "2022-01-08T18:20:00.299386Z",
     "start_time": "2022-01-08T18:19:56.108Z"
    }
   },
   "outputs": [
    {
     "data": {
      "text/plain": [
       "          Anna   Bill  Frank  Julia  Maria Michael\n",
       "Bill      0.00                                    \n",
       "Frank    56.57  56.57                             \n",
       "Julia    42.43  42.43  50.99                      \n",
       "Maria    28.28  28.28  48.99  14.14               \n",
       "Michael 134.91 134.91  78.74 115.76 120.83        \n",
       "Tom      61.64  61.64  37.42  28.28  37.42   88.32"
      ]
     },
     "metadata": {},
     "output_type": "display_data"
    }
   ],
   "source": [
    "## -> we mostly use distance measures(specifically euclidean distance measures) to calculate distances and thus be able to \n",
    "##     segment variables in consumer analyis.\n",
    "## -> to be able to calculate distances in R we use the \"dist()\" function \n",
    "\n",
    "data(\"annabill\",package = \"MSA\")\n",
    "\n",
    "D1 <- dist(annabill)\n",
    "\n",
    "round(D1,2)\n",
    "\n",
    "## above we have calculated euclidean distances for 6 tourists based on percentage of time spent on 3 activites\n"
   ]
  },
  {
   "cell_type": "code",
   "execution_count": 21,
   "metadata": {
    "ExecuteTime": {
     "end_time": "2022-01-08T18:20:00.355237Z",
     "start_time": "2022-01-08T18:19:56.111Z"
    }
   },
   "outputs": [
    {
     "data": {
      "text/plain": [
       "        Anna Bill Frank Julia Maria Michael\n",
       "Bill       0                               \n",
       "Frank     80   80                          \n",
       "Julia     60   60    80                    \n",
       "Maria     40   40    80    20              \n",
       "Michael  200  200   120   180   180        \n",
       "Tom      100  100    60    40    60     140"
      ]
     },
     "metadata": {},
     "output_type": "display_data"
    }
   ],
   "source": [
    "D2 <- dist(annabill, method = \"manhattan\")\n",
    "\n",
    "## below is the same matrix as the one above except we have used manhattan distance or absolute distance\n",
    "D2"
   ]
  },
  {
   "cell_type": "code",
   "execution_count": 22,
   "metadata": {
    "ExecuteTime": {
     "end_time": "2022-01-08T18:20:00.424055Z",
     "start_time": "2022-01-08T18:19:56.114Z"
    }
   },
   "outputs": [
    {
     "data": {
      "text/plain": [
       "Dissimilarities :\n",
       "          Anna   Bill  Frank  Julia  Maria Michael\n",
       "Bill      0.00                                    \n",
       "Frank    56.57  56.57                             \n",
       "Julia    42.43  42.43  50.99                      \n",
       "Maria    28.28  28.28  48.99  14.14               \n",
       "Michael 134.91 134.91  78.74 115.76 120.83        \n",
       "Tom      61.64  61.64  37.42  28.28  37.42   88.32\n",
       "\n",
       "Metric :  euclidean \n",
       "Number of objects : 7"
      ]
     },
     "metadata": {},
     "output_type": "display_data"
    }
   ],
   "source": [
    "## we are going to be using the cluster library and use the function 'daisy'  to calculate the dissimalirity matrix between\n",
    "##   observations contained in a data frame.All variables are rescaled between a range of [0,1] \n",
    "\n",
    "round(daisy(annabill), digits = 2)"
   ]
  },
  {
   "cell_type": "markdown",
   "metadata": {},
   "source": [
    "## Hierarchical Clustering"
   ]
  },
  {
   "cell_type": "code",
   "execution_count": 23,
   "metadata": {
    "ExecuteTime": {
     "end_time": "2022-01-08T18:20:00.499852Z",
     "start_time": "2022-01-08T18:19:56.118Z"
    }
   },
   "outputs": [
    {
     "data": {
      "text/html": [
       "<style>\n",
       ".list-inline {list-style: none; margin:0; padding: 0}\n",
       ".list-inline>li {display: inline-block}\n",
       ".list-inline>li:not(:last-child)::after {content: \"\\00b7\"; padding: 0 .5ex}\n",
       "</style>\n",
       "<ol class=list-inline><li>563</li><li>6</li></ol>\n"
      ],
      "text/latex": [
       "\\begin{enumerate*}\n",
       "\\item 563\n",
       "\\item 6\n",
       "\\end{enumerate*}\n"
      ],
      "text/markdown": [
       "1. 563\n",
       "2. 6\n",
       "\n",
       "\n"
      ],
      "text/plain": [
       "[1] 563   6"
      ]
     },
     "metadata": {},
     "output_type": "display_data"
    }
   ],
   "source": [
    "## ->  next we are going to attempt Hierarchical Clustering \n",
    "##  ->  The data is a survey of Australian residents who had undertaken atleast one personal holiday in the past 12 months   \n",
    "##   -> The dataset contains 563 respodents who state how often they take risks on a scale of \"1 = never, 5 = very often.\"\n",
    "\n",
    "\n",
    "data(\"risk\", package = \"MSA\")\n",
    "\n",
    "dim(risk)"
   ]
  },
  {
   "cell_type": "code",
   "execution_count": 24,
   "metadata": {
    "ExecuteTime": {
     "end_time": "2022-01-08T18:20:00.551713Z",
     "start_time": "2022-01-08T18:19:56.121Z"
    }
   },
   "outputs": [
    {
     "data": {
      "text/html": [
       "<style>\n",
       ".dl-inline {width: auto; margin:0; padding: 0}\n",
       ".dl-inline>dt, .dl-inline>dd {float: none; width: auto; display: inline-block}\n",
       ".dl-inline>dt::after {content: \":\\0020\"; padding-right: .5ex}\n",
       ".dl-inline>dt:not(:first-of-type) {padding-left: .5ex}\n",
       "</style><dl class=dl-inline><dt>Recreational</dt><dd>2.19005328596803</dd><dt>Health</dt><dd>2.39609236234458</dd><dt>Career</dt><dd>2.00710479573712</dd><dt>Financial</dt><dd>2.02664298401421</dd><dt>Safety</dt><dd>2.2664298401421</dd><dt>Social</dt><dd>2.01776198934281</dd></dl>\n"
      ],
      "text/latex": [
       "\\begin{description*}\n",
       "\\item[Recreational] 2.19005328596803\n",
       "\\item[Health] 2.39609236234458\n",
       "\\item[Career] 2.00710479573712\n",
       "\\item[Financial] 2.02664298401421\n",
       "\\item[Safety] 2.2664298401421\n",
       "\\item[Social] 2.01776198934281\n",
       "\\end{description*}\n"
      ],
      "text/markdown": [
       "Recreational\n",
       ":   2.19005328596803Health\n",
       ":   2.39609236234458Career\n",
       ":   2.00710479573712Financial\n",
       ":   2.02664298401421Safety\n",
       ":   2.2664298401421Social\n",
       ":   2.01776198934281\n",
       "\n"
      ],
      "text/plain": [
       "Recreational       Health       Career    Financial       Safety       Social \n",
       "    2.190053     2.396092     2.007105     2.026643     2.266430     2.017762 "
      ]
     },
     "metadata": {},
     "output_type": "display_data"
    }
   ],
   "source": [
    "## -> By using the colMeans function we can observe the mean values for all columns are close to 2 which corresponds to \n",
    "##     (=rarely)\n",
    "\n",
    "colMeans(risk)"
   ]
  },
  {
   "cell_type": "code",
   "execution_count": 25,
   "metadata": {
    "ExecuteTime": {
     "end_time": "2022-01-08T18:20:00.634490Z",
     "start_time": "2022-01-08T18:19:56.124Z"
    }
   },
   "outputs": [
    {
     "data": {
      "text/plain": [
       "\n",
       "Call:\n",
       "hclust(d = risk.dist, method = \"complete\")\n",
       "\n",
       "Cluster method   : complete \n",
       "Distance         : manhattan \n",
       "Number of objects: 563 \n"
      ]
     },
     "metadata": {},
     "output_type": "display_data"
    }
   ],
   "source": [
    "## -> The following commands below extract market segments using Manhattan distance and complete linkage\n",
    "\n",
    "risk.dist <- dist(risk, method = \"manhattan\")\n",
    "\n",
    "risk.hcl <-  hclust(risk.dist,method = \"complete\")\n",
    "\n",
    "risk.hcl"
   ]
  },
  {
   "cell_type": "code",
   "execution_count": 26,
   "metadata": {
    "ExecuteTime": {
     "end_time": "2022-01-08T18:20:01.174983Z",
     "start_time": "2022-01-08T18:19:56.129Z"
    },
    "scrolled": false
   },
   "outputs": [
    {
     "data": {
      "image/png": "[encoded data removed]",
      "text/plain": [
       "Plot with title \"Cluster Dendrogram\""
      ]
     },
     "metadata": {
      "image/png": {
       "height": 420,
       "width": 420
      }
     },
     "output_type": "display_data"
    }
   ],
   "source": [
    "## -> By plotting the results we can observe 6 different segments occuring at a height of 15 on the y-axis \n",
    "\n",
    "\n",
    "\n",
    "plot(risk.hcl)"
   ]
  },
  {
   "cell_type": "code",
   "execution_count": 27,
   "metadata": {
    "ExecuteTime": {
     "end_time": "2022-01-08T18:20:01.245795Z",
     "start_time": "2022-01-08T18:19:56.132Z"
    }
   },
   "outputs": [
    {
     "data": {
      "text/plain": [
       "c2\n",
       "  1   2 \n",
       "511  52 "
      ]
     },
     "metadata": {},
     "output_type": "display_data"
    }
   ],
   "source": [
    "## -> we can observe which consumers have been assighned to which segment by using the fucntion \"cutree\" which takes an object\n",
    "##     returned by hclust and either the height (h) at which to cut the tree or the number of (k) segments to cut the tree into\n",
    "\n",
    "c2 <- cutree(risk.hcl, h = 20)\n",
    "\n",
    "table(c2)\n",
    "\n",
    "## The number of segments returned below when cutting the tree at a height of 20"
   ]
  },
  {
   "cell_type": "code",
   "execution_count": 28,
   "metadata": {
    "ExecuteTime": {
     "end_time": "2022-01-08T18:20:01.299650Z",
     "start_time": "2022-01-08T18:19:56.135Z"
    }
   },
   "outputs": [
    {
     "data": {
      "text/plain": [
       "c6\n",
       "  1   2   3   4   5   6 \n",
       " 90 275  27  25  74  72 "
      ]
     },
     "metadata": {},
     "output_type": "display_data"
    }
   ],
   "source": [
    "c6 <- cutree(risk.hcl, k = 6)\n",
    "\n",
    "table(c6)\n",
    "\n",
    "## -> the number of segments (k) returned"
   ]
  },
  {
   "cell_type": "code",
   "execution_count": 29,
   "metadata": {
    "ExecuteTime": {
     "end_time": "2022-01-08T18:20:01.375449Z",
     "start_time": "2022-01-08T18:19:56.139Z"
    }
   },
   "outputs": [
    {
     "data": {
      "text/html": [
       "<table class=\"dataframe\">\n",
       "<caption>A data.frame: 6 × 7</caption>\n",
       "<thead>\n",
       "\t<tr><th scope=col>Cluster</th><th scope=col>Recreational</th><th scope=col>Health</th><th scope=col>Career</th><th scope=col>Financial</th><th scope=col>Safety</th><th scope=col>Social</th></tr>\n",
       "\t<tr><th scope=col>&lt;dbl&gt;</th><th scope=col>&lt;dbl&gt;</th><th scope=col>&lt;dbl&gt;</th><th scope=col>&lt;dbl&gt;</th><th scope=col>&lt;dbl&gt;</th><th scope=col>&lt;dbl&gt;</th><th scope=col>&lt;dbl&gt;</th></tr>\n",
       "</thead>\n",
       "<tbody>\n",
       "\t<tr><td>1</td><td>2.0</td><td>2.2</td><td>1.9</td><td>2.0</td><td>2.2</td><td>2.8</td></tr>\n",
       "\t<tr><td>2</td><td>1.9</td><td>1.8</td><td>1.5</td><td>1.6</td><td>2.0</td><td>1.4</td></tr>\n",
       "\t<tr><td>3</td><td>3.9</td><td>4.4</td><td>2.9</td><td>3.2</td><td>3.3</td><td>4.1</td></tr>\n",
       "\t<tr><td>4</td><td>4.1</td><td>3.3</td><td>4.1</td><td>2.8</td><td>3.4</td><td>3.2</td></tr>\n",
       "\t<tr><td>5</td><td>2.3</td><td>2.6</td><td>3.2</td><td>2.6</td><td>2.6</td><td>2.2</td></tr>\n",
       "\t<tr><td>6</td><td>2.0</td><td>3.8</td><td>1.8</td><td>2.4</td><td>2.3</td><td>2.0</td></tr>\n",
       "</tbody>\n",
       "</table>\n"
      ],
      "text/latex": [
       "A data.frame: 6 × 7\n",
       "\\begin{tabular}{lllllll}\n",
       " Cluster & Recreational & Health & Career & Financial & Safety & Social\\\\\n",
       " <dbl> & <dbl> & <dbl> & <dbl> & <dbl> & <dbl> & <dbl>\\\\\n",
       "\\hline\n",
       "\t 1 & 2.0 & 2.2 & 1.9 & 2.0 & 2.2 & 2.8\\\\\n",
       "\t 2 & 1.9 & 1.8 & 1.5 & 1.6 & 2.0 & 1.4\\\\\n",
       "\t 3 & 3.9 & 4.4 & 2.9 & 3.2 & 3.3 & 4.1\\\\\n",
       "\t 4 & 4.1 & 3.3 & 4.1 & 2.8 & 3.4 & 3.2\\\\\n",
       "\t 5 & 2.3 & 2.6 & 3.2 & 2.6 & 2.6 & 2.2\\\\\n",
       "\t 6 & 2.0 & 3.8 & 1.8 & 2.4 & 2.3 & 2.0\\\\\n",
       "\\end{tabular}\n"
      ],
      "text/markdown": [
       "\n",
       "A data.frame: 6 × 7\n",
       "\n",
       "| Cluster &lt;dbl&gt; | Recreational &lt;dbl&gt; | Health &lt;dbl&gt; | Career &lt;dbl&gt; | Financial &lt;dbl&gt; | Safety &lt;dbl&gt; | Social &lt;dbl&gt; |\n",
       "|---|---|---|---|---|---|---|\n",
       "| 1 | 2.0 | 2.2 | 1.9 | 2.0 | 2.2 | 2.8 |\n",
       "| 2 | 1.9 | 1.8 | 1.5 | 1.6 | 2.0 | 1.4 |\n",
       "| 3 | 3.9 | 4.4 | 2.9 | 3.2 | 3.3 | 4.1 |\n",
       "| 4 | 4.1 | 3.3 | 4.1 | 2.8 | 3.4 | 3.2 |\n",
       "| 5 | 2.3 | 2.6 | 3.2 | 2.6 | 2.6 | 2.2 |\n",
       "| 6 | 2.0 | 3.8 | 1.8 | 2.4 | 2.3 | 2.0 |\n",
       "\n"
      ],
      "text/plain": [
       "  Cluster Recreational Health Career Financial Safety Social\n",
       "1 1       2.0          2.2    1.9    2.0       2.2    2.8   \n",
       "2 2       1.9          1.8    1.5    1.6       2.0    1.4   \n",
       "3 3       3.9          4.4    2.9    3.2       3.3    4.1   \n",
       "4 4       4.1          3.3    4.1    2.8       3.4    3.2   \n",
       "5 5       2.3          2.6    3.2    2.6       2.6    2.2   \n",
       "6 6       2.0          3.8    1.8    2.4       2.3    2.0   "
      ]
     },
     "metadata": {},
     "output_type": "display_data"
    }
   ],
   "source": [
    "# -> A simple way to assess the characteristics of the clusters is to look at the column wise means by cluster\n",
    "\n",
    "c6.means <- aggregate(risk,list(Cluster = c6), mean)\n",
    "\n",
    "round(c6.means, 1)\n",
    "\n"
   ]
  },
  {
   "cell_type": "code",
   "execution_count": 30,
   "metadata": {
    "ExecuteTime": {
     "end_time": "2022-01-08T18:20:01.768397Z",
     "start_time": "2022-01-08T18:19:56.153Z"
    }
   },
   "outputs": [
    {
     "data": {
      "image/png": "[encoded data removed]",
      "text/plain": [
       "plot without title"
      ]
     },
     "metadata": {
      "image/png": {
       "height": 420,
       "width": 420
      }
     },
     "output_type": "display_data"
    }
   ],
   "source": [
    "## -> we can also visualize the column-wise means by clusters\n",
    "\n",
    "barchart(risk.hcl,risk,k = 6)\n",
    "\n",
    "## -> the dark red dots correspond to the total mean values accross all respondents\n",
    "## -> the bars indicate mean values within each one of the segments\n",
    "## -> segments are interpreted by inspecting the difference between the total population(red dots) and the segments (bars)"
   ]
  },
  {
   "cell_type": "markdown",
   "metadata": {},
   "source": [
    "* The interpretation for the chart above indicates that the largest segment(cluster 2) has people who avoid all types of risk\n",
    "\n",
    "\n",
    "* Segment 3 and 4 display above average risk taking in all areas,while segments 1,5 and 6 have average risk taking values for 5 of the 6 categories,but are characterised by their willingness to take above average risk in one category\n",
    "\n",
    "\n",
    "* Members of segment 1 are more willing to accept social risks than the overall population,members of segment 5 are more willing to accept career risks,and members of segment 6 are more willing to accept health risks"
   ]
  },
  {
   "cell_type": "markdown",
   "metadata": {},
   "source": [
    "## K-Means and K-Centroid Clustering"
   ]
  },
  {
   "cell_type": "code",
   "execution_count": 31,
   "metadata": {
    "ExecuteTime": {
     "end_time": "2022-01-08T18:20:01.931103Z",
     "start_time": "2022-01-08T18:19:56.160Z"
    }
   },
   "outputs": [
    {
     "data": {
      "image/png": "[encoded data removed]",
      "text/plain": [
       "plot without title"
      ]
     },
     "metadata": {
      "image/png": {
       "height": 420,
       "width": 420
      }
     },
     "output_type": "display_data"
    }
   ],
   "source": [
    "## -> This function can be implemented using the 'kmeans()' function in R\n",
    "\n",
    "## -> Below we are going to generate data with 2 axis containing:the number of features they want in a mobile phone,and the\n",
    "##    they are willing to pay for it\n",
    "\n",
    "set.seed(1234)\n",
    "PF3 <- priceFeature(500,which = \"3clust\")\n",
    "\n",
    "\n",
    "## -> we can observe the generated data below and see that members on the bottom left want a cheap phone with limited features\n",
    "## ->  members of the middle segment expect to pay a little bit more and expect a few additional features and members of the\n",
    "##       segment located in the top right corner are willng to pay a lot of money,but have very high expectations in terms of \n",
    "##        features\n",
    "\n",
    "plot(PF3)"
   ]
  },
  {
   "cell_type": "code",
   "execution_count": 32,
   "metadata": {
    "ExecuteTime": {
     "end_time": "2022-01-08T18:20:02.090676Z",
     "start_time": "2022-01-08T18:19:56.163Z"
    }
   },
   "outputs": [
    {
     "data": {
      "text/plain": [
       "kcca object of family 'kmeans' \n",
       "\n",
       "call:\n",
       "cclust(x = PF3, k = 3)\n",
       "\n",
       "cluster sizes:\n",
       "\n",
       "  1   2   3 \n",
       "200 100 200 \n"
      ]
     },
     "metadata": {},
     "output_type": "display_data"
    }
   ],
   "source": [
    "## -> we will now proceed to use function 'cclust()' instead of 'kmeans()' because it returns richer objects which are useful\n",
    "##     for visualization\n",
    "\n",
    "PF3.km3 <- cclust(PF3, k= 3)\n",
    "\n",
    "PF3.km3\n",
    "\n",
    "## -> we can observe the cluster sizes that have been generated using Euclidean distance"
   ]
  },
  {
   "cell_type": "code",
   "execution_count": 33,
   "metadata": {
    "ExecuteTime": {
     "end_time": "2022-01-08T18:20:02.146527Z",
     "start_time": "2022-01-08T18:19:56.167Z"
    }
   },
   "outputs": [
    {
     "data": {
      "text/html": [
       "<table class=\"dataframe\">\n",
       "<caption>A matrix: 3 × 2 of type dbl</caption>\n",
       "<thead>\n",
       "\t<tr><th scope=col>features / performance / quality</th><th scope=col>price</th></tr>\n",
       "</thead>\n",
       "<tbody>\n",
       "\t<tr><td>5.021999</td><td>4.881439</td></tr>\n",
       "\t<tr><td>7.976827</td><td>8.027105</td></tr>\n",
       "\t<tr><td>1.990105</td><td>2.062453</td></tr>\n",
       "</tbody>\n",
       "</table>\n"
      ],
      "text/latex": [
       "A matrix: 3 × 2 of type dbl\n",
       "\\begin{tabular}{ll}\n",
       " features / performance / quality & price\\\\\n",
       "\\hline\n",
       "\t 5.021999 & 4.881439\\\\\n",
       "\t 7.976827 & 8.027105\\\\\n",
       "\t 1.990105 & 2.062453\\\\\n",
       "\\end{tabular}\n"
      ],
      "text/markdown": [
       "\n",
       "A matrix: 3 × 2 of type dbl\n",
       "\n",
       "| features / performance / quality | price |\n",
       "|---|---|\n",
       "| 5.021999 | 4.881439 |\n",
       "| 7.976827 | 8.027105 |\n",
       "| 1.990105 | 2.062453 |\n",
       "\n"
      ],
      "text/plain": [
       "     features / performance / quality price   \n",
       "[1,] 5.021999                         4.881439\n",
       "[2,] 7.976827                         8.027105\n",
       "[3,] 1.990105                         2.062453"
      ]
     },
     "metadata": {},
     "output_type": "display_data"
    }
   ],
   "source": [
    "## ->  The cluster centers and the vectors of the cluster memberships can be extracted using the \"parameters()\" function\n",
    "\n",
    "parameters(PF3.km3)\n",
    "\n",
    "## -> we can observe that cluster 1 corresponds to the mid tier segment,while cluster 2 corresponds to the high end segment\n",
    "##    whilst cluster 3 corresponds to the low tier segments based off of the centroids (cluster means) returned"
   ]
  },
  {
   "cell_type": "code",
   "execution_count": 34,
   "metadata": {
    "ExecuteTime": {
     "end_time": "2022-01-08T18:20:02.359955Z",
     "start_time": "2022-01-08T18:19:56.170Z"
    }
   },
   "outputs": [
    {
     "data": {
      "image/png": "[encoded data removed]",
      "text/plain": [
       "plot without title"
      ]
     },
     "metadata": {
      "image/png": {
       "height": 420,
       "width": 420
      }
     },
     "output_type": "display_data"
    }
   ],
   "source": [
    "## -> we can also draw a convex hull which is a polygon connecting the outer points of the set located within the polygon\n",
    "\n",
    "## ->  we use function clusterhull() from package MSA to achieve this\n",
    "\n",
    "clusterhulls(PF3, clusters(PF3.km3))"
   ]
  },
  {
   "cell_type": "code",
   "execution_count": 35,
   "metadata": {
    "ExecuteTime": {
     "end_time": "2022-01-08T18:20:03.232867Z",
     "start_time": "2022-01-08T18:19:56.173Z"
    }
   },
   "outputs": [
    {
     "name": "stdout",
     "output_type": "stream",
     "text": [
      "2 : * * * * * * * * * *\n",
      "3 : * * * * * * * * * *\n",
      "4 : * * * * * * * * * *\n",
      "5 : * * * * * * * * * *\n",
      "6 : * * * * * * * * * *\n",
      "7 : * * * * * * * * * *\n",
      "8 : * * * * * * * * * *\n"
     ]
    },
    {
     "data": {
      "text/plain": [
       "stepFlexclust object of family 'kmeans' \n",
       "\n",
       "call:\n",
       "stepcclust(PF3, k = 2:8, nrep = 10)\n",
       "\n",
       "  iter converged   distsum\n",
       "1   NA        NA 1434.6462\n",
       "2    7      TRUE  827.6455\n",
       "3    2      TRUE  464.7213\n",
       "4   12      TRUE  417.2226\n",
       "5   22      TRUE  371.7285\n",
       "6   14      TRUE  334.5255\n",
       "7   17      TRUE  303.8534\n",
       "8   21      TRUE  285.2269"
      ]
     },
     "metadata": {},
     "output_type": "display_data"
    }
   ],
   "source": [
    "## -> specifying the number of segements is difficult because consumer data does not contain distinct, well separated naturally\n",
    "##     existing market segments\n",
    "\n",
    "## -> a popular approach is to repeat the clustering procedure for different numbers of market segments,and then compare,across\n",
    "##      those solutions,the sum of distances of all observations to their representative\n",
    "\n",
    "## -> below we will calculate 10 runs of the k-means algorithm using function 'stepcclust' with number of segments varying from\n",
    "##     2 to 8 \n",
    "\n",
    "PF3.km28 <- stepcclust(PF3,k = 2:8, nrep = 10)\n",
    "\n",
    "PF3.km28"
   ]
  },
  {
   "cell_type": "code",
   "execution_count": 36,
   "metadata": {
    "ExecuteTime": {
     "end_time": "2022-01-08T18:20:03.323889Z",
     "start_time": "2022-01-08T18:19:56.176Z"
    }
   },
   "outputs": [
    {
     "data": {
      "image/png": "[encoded data removed]",
      "text/plain": [
       "plot without title"
      ]
     },
     "metadata": {
      "image/png": {
       "height": 420,
       "width": 420
      }
     },
     "output_type": "display_data"
    }
   ],
   "source": [
    "## -> The scree plot below shows distinct drops in the sum of within cluster distances for the first numbers of segments\n",
    "##     followed only by small decreases afterwards\n",
    "\n",
    "## -> The point of the scree plot indicating the best number of segments is where an 'elbow' occurs which is the segment where \n",
    "##      the drops in the sum of within cluster distances start to become too small to notice\n",
    "\n",
    "## -> The scree plot only provides guidance if market segments are well-separated.If they are not, stability analysis can inform\n",
    "##     the number of segment decision\n",
    "\n",
    "plot(PF3.km28)"
   ]
  },
  {
   "cell_type": "code",
   "execution_count": 37,
   "metadata": {
    "ExecuteTime": {
     "end_time": "2022-01-08T18:20:04.211014Z",
     "start_time": "2022-01-08T18:19:56.180Z"
    }
   },
   "outputs": [
    {
     "name": "stdout",
     "output_type": "stream",
     "text": [
      "2 : * * * * * * * * * *\n",
      "3 : * * * * * * * * * *\n",
      "4 : * * * * * * * * * *\n",
      "5 : * * * * * * * * * *\n",
      "6 : * * * * * * * * * *\n",
      "7 : * * * * * * * * * *\n",
      "8 : * * * * * * * * * *\n"
     ]
    },
    {
     "data": {
      "image/png": "[encoded data removed]",
      "text/plain": [
       "plot without title"
      ]
     },
     "metadata": {
      "image/png": {
       "height": 420,
       "width": 420
      }
     },
     "output_type": "display_data"
    }
   ],
   "source": [
    "## -> below is the resulting scree plot for the vacation risk dataset which contains real consumer data\n",
    "\n",
    "## -> No obvious number of segments recommendation emerges from this plot,but if it were the only available decision tool,the\n",
    "##     two-segment solution would be chosen \n",
    "\n",
    "## -> The solution containing 2-market segments splits the data into risk-averse people and risk-takers,reflecting the 2 main \n",
    "##      branches of the dendogram we did above\n",
    "\n",
    "set.seed(1234)\n",
    "\n",
    "risk.km28 <- stepcclust(risk,k = 2:8,nrep = 10)\n",
    "\n",
    "plot(risk.km28)"
   ]
  },
  {
   "cell_type": "markdown",
   "metadata": {
    "ExecuteTime": {
     "end_time": "2021-12-29T18:07:27.304625Z",
     "start_time": "2021-12-29T18:07:27.209Z"
    }
   },
   "source": [
    "### Bagged Clustering\n",
    "\n",
    "* Bagged Clustering combines hierarchical clustering algorithms and partitioning algorithms but adds bootstrapping\n",
    "\n",
    "\n",
    "* Bootstrapping is implemented by random drawing which is the process of extracting segments with randomly drawn samples of the data\n",
    "\n",
    "\n",
    "* Bootstrapping has the advantage of making the final segmentation solution less dependent on the exact people contained in consumer data\n",
    "\n",
    "\n",
    "* The first step in bagged clustering is clustering the bootstrapped data-sets using a partitioning algorithm.Next we discard the original data-set and all bootstrapped data-sets where we will be left with only the cluster centroids which we save and will serve as our data-sets for the second step:hierachical clustering\n",
    "\n",
    "* The resulting dendogram may provide clues about the best number of market segments to extract\n",
    "\n",
    "\n",
    "* Bagged Clustering is suitable if :\n",
    "*  - If we suspect the existence of niche markets\n",
    "*  - If we fear that standard algorithms might get stuck in bad local solutions\n",
    "*  - If we prefer hierarchical clustering,but the data-set is too large\n",
    "\n",
    "\n",
    "* Bagged clustering is an example of an ensemble clustering method,which are called so because they combine several segmentation solutions into one. They are also called 'committees'\n",
    "\n",
    "\n"
   ]
  },
  {
   "cell_type": "code",
   "execution_count": 38,
   "metadata": {
    "ExecuteTime": {
     "end_time": "2022-01-08T18:20:04.373661Z",
     "start_time": "2022-01-08T18:19:56.185Z"
    }
   },
   "outputs": [
    {
     "data": {
      "text/html": [
       "<style>\n",
       ".list-inline {list-style: none; margin:0; padding: 0}\n",
       ".list-inline>li {display: inline-block}\n",
       ".list-inline>li:not(:last-child)::after {content: \"\\00b7\"; padding: 0 .5ex}\n",
       "</style>\n",
       "<ol class=list-inline><li>'alpine skiing'</li><li>'cross-country skiing'</li><li>'snowboarding'</li><li>'carving'</li><li>'ski touring'</li><li>'ice-skating'</li><li>'sleigh riding'</li><li>'tennis'</li><li>'horseback riding'</li><li>'going to a spa '</li><li>'using health facilities'</li><li>'hiking'</li><li>'going for walks'</li><li>'organized excursions'</li><li>'excursions'</li><li>'relaxing'</li><li>'going out in the evening'</li><li>'going to discos/bars'</li><li>'shopping'</li><li>'sight-seeing'</li><li>'museums'</li><li>'theater/opera'</li><li>'heurigen'</li><li>'concerts'</li><li>'tyrolean evenings'</li><li>'local events'</li><li>'pool/sauna'</li></ol>\n"
      ],
      "text/latex": [
       "\\begin{enumerate*}\n",
       "\\item 'alpine skiing'\n",
       "\\item 'cross-country skiing'\n",
       "\\item 'snowboarding'\n",
       "\\item 'carving'\n",
       "\\item 'ski touring'\n",
       "\\item 'ice-skating'\n",
       "\\item 'sleigh riding'\n",
       "\\item 'tennis'\n",
       "\\item 'horseback riding'\n",
       "\\item 'going to a spa '\n",
       "\\item 'using health facilities'\n",
       "\\item 'hiking'\n",
       "\\item 'going for walks'\n",
       "\\item 'organized excursions'\n",
       "\\item 'excursions'\n",
       "\\item 'relaxing'\n",
       "\\item 'going out in the evening'\n",
       "\\item 'going to discos/bars'\n",
       "\\item 'shopping'\n",
       "\\item 'sight-seeing'\n",
       "\\item 'museums'\n",
       "\\item 'theater/opera'\n",
       "\\item 'heurigen'\n",
       "\\item 'concerts'\n",
       "\\item 'tyrolean evenings'\n",
       "\\item 'local events'\n",
       "\\item 'pool/sauna'\n",
       "\\end{enumerate*}\n"
      ],
      "text/markdown": [
       "1. 'alpine skiing'\n",
       "2. 'cross-country skiing'\n",
       "3. 'snowboarding'\n",
       "4. 'carving'\n",
       "5. 'ski touring'\n",
       "6. 'ice-skating'\n",
       "7. 'sleigh riding'\n",
       "8. 'tennis'\n",
       "9. 'horseback riding'\n",
       "10. 'going to a spa '\n",
       "11. 'using health facilities'\n",
       "12. 'hiking'\n",
       "13. 'going for walks'\n",
       "14. 'organized excursions'\n",
       "15. 'excursions'\n",
       "16. 'relaxing'\n",
       "17. 'going out in the evening'\n",
       "18. 'going to discos/bars'\n",
       "19. 'shopping'\n",
       "20. 'sight-seeing'\n",
       "21. 'museums'\n",
       "22. 'theater/opera'\n",
       "23. 'heurigen'\n",
       "24. 'concerts'\n",
       "25. 'tyrolean evenings'\n",
       "26. 'local events'\n",
       "27. 'pool/sauna'\n",
       "\n",
       "\n"
      ],
      "text/plain": [
       " [1] \"alpine skiing\"            \"cross-country skiing\"    \n",
       " [3] \"snowboarding\"             \"carving\"                 \n",
       " [5] \"ski touring\"              \"ice-skating\"             \n",
       " [7] \"sleigh riding\"            \"tennis\"                  \n",
       " [9] \"horseback riding\"         \"going to a spa \"         \n",
       "[11] \"using health facilities\"  \"hiking\"                  \n",
       "[13] \"going for walks\"          \"organized excursions\"    \n",
       "[15] \"excursions\"               \"relaxing\"                \n",
       "[17] \"going out in the evening\" \"going to discos/bars\"    \n",
       "[19] \"shopping\"                 \"sight-seeing\"            \n",
       "[21] \"museums\"                  \"theater/opera\"           \n",
       "[23] \"heurigen\"                 \"concerts\"                \n",
       "[25] \"tyrolean evenings\"        \"local events\"            \n",
       "[27] \"pool/sauna\"              "
      ]
     },
     "metadata": {},
     "output_type": "display_data"
    }
   ],
   "source": [
    "## -> We will use the Austrian winter tourist destination to identify market segments based off of their vacation activities\n",
    "\n",
    "## -> we will first load the data and check the variables\n",
    "\n",
    "data(\"winterActiv\",package = \"MSA\")\n",
    "\n",
    "colnames(winterActiv)"
   ]
  },
  {
   "cell_type": "code",
   "execution_count": 39,
   "metadata": {
    "ExecuteTime": {
     "end_time": "2022-01-08T18:20:24.358010Z",
     "start_time": "2022-01-08T18:19:56.189Z"
    }
   },
   "outputs": [
    {
     "name": "stdout",
     "output_type": "stream",
     "text": [
      "Committee Member:\n",
      " 1 2 3 4 5 6 7 8 9 10 11 12 13 14 15 16 17 18 19 20\n",
      " 21 22 23 24 25 26 27 28 29 30 31 32 33 34 35 36 37 38 39 40\n",
      " 41 42 43 44 45 46 47 48 49 50\n",
      "Computing Hierarchical Clustering\n"
     ]
    }
   ],
   "source": [
    "## -> we run bagged clustering using 'bclust()' function from 'flexclust' package and specify (k = 10) market segments and \n",
    "##     (base.iter = 50) bootstrap samples\n",
    "\n",
    "set.seed(1234)\n",
    "\n",
    "winter.bc <- bclust(winterActiv,base.k = 10, base.iter = 50)"
   ]
  },
  {
   "cell_type": "code",
   "execution_count": 40,
   "metadata": {
    "ExecuteTime": {
     "end_time": "2022-01-08T18:20:27.473165Z",
     "start_time": "2022-01-08T18:19:56.192Z"
    }
   },
   "outputs": [
    {
     "data": {
      "image/png": "[encoded data removed]",
      "text/plain": [
       "Plot with title \"Cluster Dendrogram\""
      ]
     },
     "metadata": {
      "image/png": {
       "height": 420,
       "width": 420
      }
     },
     "output_type": "display_data"
    }
   ],
   "source": [
    "winterActiv.dist <- dist(winterActiv, method = \"manhattan\")\n",
    "\n",
    "winterActiv.hcl <-  hclust(winterActiv.dist,method = \"complete\")\n",
    "\n",
    "plot(winterActiv.hcl)\n",
    "\n",
    "## -> Below is a dendogram for bagged cluster analysis of the winter vacation activities data-set"
   ]
  },
  {
   "cell_type": "code",
   "execution_count": 41,
   "metadata": {
    "ExecuteTime": {
     "end_time": "2022-01-08T18:20:27.751204Z",
     "start_time": "2022-01-08T18:19:56.196Z"
    }
   },
   "outputs": [
    {
     "data": {
      "image/png": "[encoded data removed]",
      "text/plain": [
       "plot without title"
      ]
     },
     "metadata": {
      "image/png": {
       "height": 420,
       "width": 420
      }
     },
     "output_type": "display_data"
    }
   ],
   "source": [
    "## -> A barchart of cluster means from the bagged cluster analysis of the winter vacation activities data set\n",
    "## -> here we can observe that the largest segment(cluster1) contains more than one third of all tourists in the sample whilst\n",
    "##     the smallest segment contains only 11%\n",
    "\n",
    "## -> the smallest segment is peculiar in that it contains above average agreement with all vacation activities.As such their is\n",
    "##     a risk that this segment may capture an acquiescence response style(the tendency of respondents to agree with everything\n",
    "##         they are asked)\n",
    "\n",
    "## -> taking a look at cluster 3,we can observe a very interesting characteristic in that members of this segment rarely go\n",
    "##      skiing.Instead a large proportion of them goes for \"walks\" or \"sight-seeing\" as well as \"excursions\" which seems to\n",
    "##      suggest that this segment represents a more \"outdoorsy\" kind of tourist\n",
    "\n",
    "## -> taking a look at cluster we might see behaviours corresponding with tourists who are taking a vacation to \"mostly relax\"\n",
    "#      as can be noted by their above average agreement with \"going out in the evening\", \"relaxing\", \"going out to discos/bars\"\n",
    "#      and \"alpine skiing\"\n",
    "\n",
    "##-> whilst the largest segment(cluster 1) seems to display characterestics of a segment who correspond with 'adventure seeking'\n",
    "#    or \"sport\" tourists as can be observed from their high agreement with alpine skiing but below average agreement with all\n",
    "#     other activities especially \"relaxing\"\n",
    "\n",
    "barchart(winter.bc,k = 5)"
   ]
  },
  {
   "cell_type": "code",
   "execution_count": 42,
   "metadata": {
    "ExecuteTime": {
     "end_time": "2022-01-08T18:20:27.930881Z",
     "start_time": "2022-01-08T18:19:56.199Z"
    }
   },
   "outputs": [
    {
     "data": {
      "image/png": "[encoded data removed]",
      "text/plain": [
       "plot without title"
      ]
     },
     "metadata": {
      "image/png": {
       "height": 420,
       "width": 420
      }
     },
     "output_type": "display_data"
    }
   ],
   "source": [
    "## -> below is a boxplot for cluster centres from bagged cluster analysis for segment 5 of the winter vacation activities \n",
    "\n",
    "## -> to interpret this we say that if the cluster centres are spread across the full width of the plot for a specific vacation\n",
    "##    activity,it indicates that the market segment is not vey distinct with repsect to this activity.however,if all cluster\n",
    "##     centres are lumped together,this is key characteristic of this particular market segment\n",
    "\n",
    "bwplot(winter.bc,k = 5,clusters = 2)"
   ]
  },
  {
   "cell_type": "markdown",
   "metadata": {},
   "source": [
    "## Model based methods\n",
    "\n",
    "\n",
    "* The model based methods used in this section are called finite mixture models because the number of market segments is finite\n",
    "    and the overall model is a mixture of segment specific models"
   ]
  },
  {
   "cell_type": "code",
   "execution_count": 43,
   "metadata": {
    "ExecuteTime": {
     "end_time": "2022-01-08T18:20:30.801819Z",
     "start_time": "2022-01-08T18:19:56.203Z"
    }
   },
   "outputs": [
    {
     "name": "stderr",
     "output_type": "stream",
     "text": [
      "Package 'mclust' version 5.4.9\n",
      "Type 'citation(\"mclust\")' for citing this R package in publications.\n",
      "\n"
     ]
    },
    {
     "data": {
      "text/plain": [
       "'Mclust' model object: (VII,3) \n",
       "\n",
       "Available components: \n",
       " [1] \"call\"           \"data\"           \"modelName\"      \"n\"             \n",
       " [5] \"d\"              \"G\"              \"BIC\"            \"loglik\"        \n",
       " [9] \"df\"             \"bic\"            \"icl\"            \"hypvol\"        \n",
       "[13] \"parameters\"     \"z\"              \"classification\" \"uncertainty\"   "
      ]
     },
     "metadata": {},
     "output_type": "display_data"
    },
    {
     "data": {
      "image/png": "[encoded data removed]",
      "text/plain": [
       "Plot with title \"\""
      ]
     },
     "metadata": {
      "image/png": {
       "height": 420,
       "width": 420
      }
     },
     "output_type": "display_data"
    }
   ],
   "source": [
    "set.seed(1234)\n",
    "\n",
    "pf3 <- priceFeature(500,which = \"3clust\")\n",
    "\n",
    "library(mclust)\n",
    "\n",
    "pf3.m28 <- Mclust(pf3,G = 2:8)\n",
    "\n",
    "pf3.m28\n",
    "\n",
    "plot(pf3.m28,what = \"uncertainty\")"
   ]
  },
  {
   "cell_type": "markdown",
   "metadata": {
    "ExecuteTime": {
     "end_time": "2022-01-04T20:18:44.039962Z",
     "start_time": "2022-01-04T20:18:24.583Z"
    }
   },
   "source": [
    "* The plot generated above is called an \"uncertainty plot\".\n",
    "* The colours indicate segment assignments with larger solid coloured bubbles having higher assignment uncertainty\n",
    "\n",
    "* For a more practical guide let use the australian vacation motives dataset"
   ]
  },
  {
   "cell_type": "code",
   "execution_count": 44,
   "metadata": {
    "ExecuteTime": {
     "end_time": "2022-01-08T18:20:31.132915Z",
     "start_time": "2022-01-08T18:19:56.206Z"
    }
   },
   "outputs": [],
   "source": [
    "## we first load the dataset\n",
    "data(\"vacmot\", package = \"flexclust\")\n",
    "vacmet <- vacmotdesc[,c(\"Obligation\",\"NEP\",\"Vacation.Behaviour\")]\n",
    "vacmet <- na.omit(vacmet)"
   ]
  },
  {
   "cell_type": "code",
   "execution_count": 45,
   "metadata": {
    "ExecuteTime": {
     "end_time": "2022-01-08T18:20:32.410154Z",
     "start_time": "2022-01-08T18:19:56.209Z"
    }
   },
   "outputs": [
    {
     "data": {
      "image/png": "[encoded data removed]",
      "text/plain": [
       "plot without title"
      ]
     },
     "metadata": {
      "image/png": {
       "height": 420,
       "width": 420
      }
     },
     "output_type": "display_data"
    }
   ],
   "source": [
    "## we then visualize the data\n",
    "\n",
    "pairs(vacmet,pch = 19,col = rgb(0,0,0,0.2))\n",
    "\n",
    "## we find that no clearly separated segments exist in the data"
   ]
  },
  {
   "cell_type": "code",
   "execution_count": 46,
   "metadata": {
    "ExecuteTime": {
     "end_time": "2022-01-08T18:20:42.040644Z",
     "start_time": "2022-01-08T18:19:56.211Z"
    }
   },
   "outputs": [
    {
     "data": {
      "text/plain": [
       "'Mclust' model object: (VEE,2) \n",
       "\n",
       "Available components: \n",
       " [1] \"call\"           \"data\"           \"modelName\"      \"n\"             \n",
       " [5] \"d\"              \"G\"              \"BIC\"            \"loglik\"        \n",
       " [9] \"df\"             \"bic\"            \"icl\"            \"hypvol\"        \n",
       "[13] \"parameters\"     \"z\"              \"classification\" \"uncertainty\"   "
      ]
     },
     "metadata": {},
     "output_type": "display_data"
    }
   ],
   "source": [
    "## Mclust gits all 14 covariance matrix models by default,and returns the best model with respect to the BIC\n",
    "\n",
    "vacmet.m18 <- Mclust(vacmet,G = 1:8)\n",
    "\n",
    "vacmet.m18"
   ]
  },
  {
   "cell_type": "code",
   "execution_count": 47,
   "metadata": {
    "ExecuteTime": {
     "end_time": "2022-01-08T18:20:42.931075Z",
     "start_time": "2022-01-08T18:19:56.215Z"
    }
   },
   "outputs": [
    {
     "data": {
      "image/png": "[encoded data removed]",
      "text/plain": [
       "Plot with title \"\""
      ]
     },
     "metadata": {
      "image/png": {
       "height": 420,
       "width": 420
      }
     },
     "output_type": "display_data"
    }
   ],
   "source": [
    "plot(vacmet.m18,what = \"classification\")\n",
    "\n",
    "# below is a classification plot of the mixture of normal distributions for the australian travel motives data set selected \n",
    "#  using the BIC among all covariance models"
   ]
  },
  {
   "cell_type": "markdown",
   "metadata": {},
   "source": [
    "* Using mixtures of normal distributions means the data points are not assgned to the segment where the mean is closest in Euclidean space(like in k-means clustering).Rathe,the distance induced by the covariance matrices  is used and the segment sizes are taken into account"
   ]
  },
  {
   "cell_type": "markdown",
   "metadata": {},
   "source": [
    "### Binary Distributions\n",
    "\n",
    "* For binary data,finite mixtures of binary distributions,sometimes called latent class models/analysis are used\n",
    "\n",
    "* We will use the dataset containing winter activities of Austrian tourists"
   ]
  },
  {
   "cell_type": "code",
   "execution_count": 59,
   "metadata": {
    "ExecuteTime": {
     "end_time": "2022-01-08T18:40:20.471909Z",
     "start_time": "2022-01-08T18:40:20.414Z"
    }
   },
   "outputs": [
    {
     "data": {
      "text/plain": [
       "             sight-seeing\n",
       "alpine skiing    0    1\n",
       "            0  416  527\n",
       "            1 1663  355"
      ]
     },
     "metadata": {},
     "output_type": "display_data"
    }
   ],
   "source": [
    "## we will first investigate the observed frequency patterns for the variables \"Alpine skiing\" and \"sight seeing\"\n",
    "\n",
    "data(\"winterActiv\", package=\"MSA\")\n",
    "\n",
    "winteractiv2 <- winterActiv[,c(\"alpine skiing\",  \"sight-seeing\")]\n",
    "\n",
    "table(as.data.frame(winteractiv2))\n",
    "\n",
    "## we can observe of the 2961 respondents, only 355(12%) stated they engaged in both activities\n",
    "## if the 2 activities were not associated, we would expect this percentage to be much higher"
   ]
  },
  {
   "cell_type": "code",
   "execution_count": 58,
   "metadata": {
    "ExecuteTime": {
     "end_time": "2022-01-08T18:39:37.684674Z",
     "start_time": "2022-01-08T18:39:37.642Z"
    }
   },
   "outputs": [
    {
     "data": {
      "text/html": [
       "20"
      ],
      "text/latex": [
       "20"
      ],
      "text/markdown": [
       "20"
      ],
      "text/plain": [
       "[1] 20"
      ]
     },
     "metadata": {},
     "output_type": "display_data"
    }
   ],
   "source": [
    "p <- colMeans(winteractiv2)\n",
    "\n",
    "\n",
    "round(prod(p) * 100)\n",
    "\n",
    "## the expected percentage od 20%"
   ]
  },
  {
   "cell_type": "code",
   "execution_count": 68,
   "metadata": {
    "ExecuteTime": {
     "end_time": "2022-01-08T19:04:28.762725Z",
     "start_time": "2022-01-08T19:04:28.740Z"
    }
   },
   "outputs": [
    {
     "ename": "ERROR",
     "evalue": "Error in parse(text = x, srcfile = src): <text>:9:14: unexpected '}'\n8:            + res \n9:              }\n                ^\n",
     "output_type": "error",
     "traceback": [
      "Error in parse(text = x, srcfile = src): <text>:9:14: unexpected '}'\n8:            + res \n9:              }\n                ^\nTraceback:\n"
     ]
    }
   ],
   "source": [
    "n <- nrow(winteractiv2)\n",
    "\n",
    "expected <- function(p){\n",
    "    \n",
    "    res<- outer(c(1-p[1],p[1]), c(1 - p[2], p[2])) +\n",
    "    dimnames(res <- setNames(rep(list(c(\"0\",\"1\")),2),\n",
    "                            +names(p))\n",
    "           + res \n",
    "             }\n",
    "                                                            \n",
    "                                                            \n",
    "round(n*expected(p))                             "
   ]
  },
  {
   "cell_type": "code",
   "execution_count": 69,
   "metadata": {
    "ExecuteTime": {
     "end_time": "2022-01-08T19:07:01.558212Z",
     "start_time": "2022-01-08T19:07:01.520Z"
    }
   },
   "outputs": [
    {
     "ename": "ERROR",
     "evalue": "Error in library(flexmix): there is no package called 'flexmix'\n",
     "output_type": "error",
     "traceback": [
      "Error in library(flexmix): there is no package called 'flexmix'\nTraceback:\n",
      "1. library(flexmix)"
     ]
    }
   ],
   "source": [
    "library(flexmix)\n",
    "\n",
    "winteractiv2.m2 <- flexmix(winteractiv2 ~ 1,k= 2,model = FLXMCmvbinary())"
   ]
  },
  {
   "cell_type": "code",
   "execution_count": null,
   "metadata": {},
   "outputs": [],
   "source": []
  },
  {
   "cell_type": "code",
   "execution_count": null,
   "metadata": {},
   "outputs": [],
   "source": []
  },
  {
   "cell_type": "code",
   "execution_count": null,
   "metadata": {},
   "outputs": [],
   "source": []
  },
  {
   "cell_type": "code",
   "execution_count": null,
   "metadata": {},
   "outputs": [],
   "source": []
  },
  {
   "cell_type": "code",
   "execution_count": null,
   "metadata": {},
   "outputs": [],
   "source": []
  }
 ],
 "metadata": {
  "kernelspec": {
   "display_name": "R",
   "language": "R",
   "name": "ir"
  },
  "language_info": {
   "codemirror_mode": "r",
   "file_extension": ".r",
   "mimetype": "text/x-r-source",
   "name": "R",
   "pygments_lexer": "r",
   "version": "4.1.2"
  },
  "toc": {
   "base_numbering": 1,
   "nav_menu": {},
   "number_sections": true,
   "sideBar": true,
   "skip_h1_title": false,
   "title_cell": "Table of Contents",
   "title_sidebar": "Contents",
   "toc_cell": false,
   "toc_position": {},
   "toc_section_display": true,
   "toc_window_display": false
  },
  "varInspector": {
   "cols": {
    "lenName": 16,
    "lenType": 16,
    "lenVar": 40
   },
   "kernels_config": {
    "python": {
     "delete_cmd_postfix": "",
     "delete_cmd_prefix": "del ",
     "library": "var_list.py",
     "varRefreshCmd": "print(var_dic_list())"
    },
    "r": {
     "delete_cmd_postfix": ") ",
     "delete_cmd_prefix": "rm(",
     "library": "var_list.r",
     "varRefreshCmd": "cat(var_dic_list()) "
    }
   },
   "types_to_exclude": [
    "module",
    "function",
    "builtin_function_or_method",
    "instance",
    "_Feature"
   ],
   "window_display": false
  }
 },
 "nbformat": 4,
 "nbformat_minor": 2
}
